{
 "cells": [
  {
   "cell_type": "code",
   "execution_count": 5,
   "metadata": {
    "collapsed": true
   },
   "outputs": [],
   "source": [
    "import numpy as np"
   ]
  },
  {
   "cell_type": "markdown",
   "metadata": {},
   "source": [
    "### Create a columns vector full of zeros! [hint](https://docs.scipy.org/doc/numpy/reference/generated/numpy.zeros.html)"
   ]
  },
  {
   "cell_type": "code",
   "execution_count": 34,
   "metadata": {
    "collapsed": false
   },
   "outputs": [],
   "source": [
    "def graded_zero_vector(length):\n",
    "    zeroVec = (np.array([np.zeros(length)])).T\n",
    "    return(zeroVec)"
   ]
  },
  {
   "cell_type": "code",
   "execution_count": 35,
   "metadata": {
    "collapsed": false
   },
   "outputs": [
    {
     "name": "stdout",
     "output_type": "stream",
     "text": [
      "Shape: (50, 1)\n",
      "Shape: (123, 1)\n"
     ]
    }
   ],
   "source": [
    "print('Shape:', graded_zero_vector(50).shape)\n",
    "print('Shape:', graded_zero_vector(123).shape)"
   ]
  },
  {
   "cell_type": "markdown",
   "metadata": {},
   "source": [
    "**Expected results:**  \n",
    "Shape: (50,1)  \n",
    "Shape: (123,1)"
   ]
  },
  {
   "cell_type": "markdown",
   "metadata": {},
   "source": [
    "### Create a vector for that vec_i = i!.  [hint](https://docs.scipy.org/doc/numpy/reference/generated/numpy.linspace.html)"
   ]
  },
  {
   "cell_type": "code",
   "execution_count": 50,
   "metadata": {
    "collapsed": false
   },
   "outputs": [],
   "source": [
    "def graded_vec_i(length):\n",
    "    vec = np.linspace(0,length-1,num=length,endpoint=True)\n",
    "    return(vec)"
   ]
  },
  {
   "cell_type": "code",
   "execution_count": 51,
   "metadata": {
    "collapsed": false
   },
   "outputs": [
    {
     "name": "stdout",
     "output_type": "stream",
     "text": [
      "Sum: 45.0\n",
      "Vector: [ 0.  1.  2.  3.  4.  5.  6.  7.  8.  9.]\n"
     ]
    }
   ],
   "source": [
    "print('Sum:', sum(graded_vec_i(10)))\n",
    "print('Vector:', graded_vec_i(10))"
   ]
  },
  {
   "cell_type": "markdown",
   "metadata": {},
   "source": [
    "**Expected results:**  \n",
    "Sum: 45.0  \n",
    "Vector: [ 0.  1.  2.  3.  4.  5.  6.  7.  8.  9.]"
   ]
  },
  {
   "cell_type": "markdown",
   "metadata": {},
   "source": [
    "### Generate the 3 [Pauli matricies](https://en.wikipedia.org/wiki/Pauli_matrices) (each has a size of 2x2)!"
   ]
  },
  {
   "cell_type": "code",
   "execution_count": 14,
   "metadata": {
    "collapsed": true
   },
   "outputs": [],
   "source": [
    "def graded_generate_pauli():\n",
    "    \n",
    "    pauliX = ([[0.,1.],[1.,0.]]) \n",
    "    pauliY = ([[0.,0.-1.j],[0.+1.j,0.]]) \n",
    "    pauliZ = ([[1.,0.],[0.,-1.]])\n",
    "    \n",
    "    return(pauliX, pauliY, pauliZ)"
   ]
  },
  {
   "cell_type": "code",
   "execution_count": 15,
   "metadata": {
    "collapsed": false
   },
   "outputs": [
    {
     "name": "stdout",
     "output_type": "stream",
     "text": [
      "Pauli X: [[0.0, 1.0], [1.0, 0.0]]\n"
     ]
    }
   ],
   "source": [
    "print('Pauli X:', graded_generate_pauli()[0])"
   ]
  },
  {
   "cell_type": "markdown",
   "metadata": {},
   "source": [
    "**Expected results:**  \n",
    "Pauli X: [[ 0.  1.]  \n",
    "[ 1.  0.]]"
   ]
  },
  {
   "cell_type": "markdown",
   "metadata": {},
   "source": [
    "### Check if they are really Pauli!  \n",
    "#### First calculate their [determinant](https://docs.scipy.org/doc/numpy-1.12.0/reference/generated/numpy.linalg.det.html). Then their [square](https://docs.scipy.org/doc/numpy-1.12.0/reference/routines.linalg.html) and [trace](https://www.google.com/) (spur) too!"
   ]
  },
  {
   "cell_type": "code",
   "execution_count": 16,
   "metadata": {
    "collapsed": false
   },
   "outputs": [],
   "source": [
    "def graded_pauli_check(coordinate): # coordinate can be 'X', 'Y' or 'Z'    \n",
    "    coord_index_map = {'X':0, 'Y':1, 'Z':2}\n",
    "    pauli_index = coord_index_map[coordinate]\n",
    "    \n",
    "    #retreive the corresponding Pauli matrix\n",
    "    def graded_generate_paulis(n):\n",
    "    \n",
    "        pauliX = ([[0.,1.],[1.,0.]]) \n",
    "        pauliY = ([[0.,0.-1.j],[0.+1.j,0.]]) \n",
    "        pauliZ = ([[1.,0.],[0.,-1.]])\n",
    "    \n",
    "        return((pauliX, pauliY, pauliZ)[n])\n",
    "    \n",
    "    pauliMatrix =  graded_generate_paulis(pauli_index)\n",
    "    \n",
    "    # calculate its determinant\n",
    "    det = np.linalg.det(pauliMatrix) \n",
    "\n",
    "    # calculate its square\n",
    "    square = np.linalg.matrix_power(pauliMatrix,2) \n",
    "\n",
    "    # calculate its trace\n",
    "    trace = np.trace(pauliMatrix)\n",
    "    \n",
    "    return(det, square, trace)"
   ]
  },
  {
   "cell_type": "code",
   "execution_count": 17,
   "metadata": {
    "collapsed": false
   },
   "outputs": [
    {
     "name": "stdout",
     "output_type": "stream",
     "text": [
      "Determinant: (-1+0j)\n",
      "Trace: 0j\n"
     ]
    }
   ],
   "source": [
    "print('Determinant:', graded_pauli_check('Y')[0])\n",
    "print('Trace:', graded_pauli_check('Y')[2])"
   ]
  },
  {
   "cell_type": "markdown",
   "metadata": {},
   "source": [
    "**Expected results:**  \n",
    "Determinant: (-1.0+0j)  \n",
    "Trace: 0j"
   ]
  },
  {
   "cell_type": "markdown",
   "metadata": {},
   "source": [
    "Great, you finished :)  \n",
    "**Don't forget to upload this notebook to your forked github repository with a name assignments/hw01_numpy_solved.ipynb.**"
   ]
  }
 ],
 "metadata": {
  "kernelspec": {
   "display_name": "Python 3",
   "language": "python",
   "name": "python3"
  },
  "language_info": {
   "codemirror_mode": {
    "name": "ipython",
    "version": 3
   },
   "file_extension": ".py",
   "mimetype": "text/x-python",
   "name": "python",
   "nbconvert_exporter": "python",
   "pygments_lexer": "ipython3",
   "version": "3.4.0"
  }
 },
 "nbformat": 4,
 "nbformat_minor": 2
}
